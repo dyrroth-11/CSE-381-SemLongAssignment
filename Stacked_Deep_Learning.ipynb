{
  "nbformat": 4,
  "nbformat_minor": 0,
  "metadata": {
    "colab": {
      "name": "Stacked Deep Learning.ipynb",
      "provenance": [],
      "collapsed_sections": []
    },
    "kernelspec": {
      "name": "python3",
      "display_name": "Python 3"
    },
    "language_info": {
      "name": "python"
    }
  },
  "cells": [
    {
      "cell_type": "markdown",
      "source": [
        "# **Importing Libraries**"
      ],
      "metadata": {
        "id": "cLWxDZ4Onocs"
      }
    },
    {
      "cell_type": "code",
      "source": [
        "import sys\n",
        "import os\n",
        "import pandas as pd\n",
        "from sklearn.linear_model import LogisticRegression\n",
        "from sklearn.neighbors import KNeighborsClassifier\n",
        "from sklearn.svm import SVC\n",
        "from sklearn.naive_bayes import GaussianNB\n",
        "from sklearn.tree import DecisionTreeClassifier\n",
        "from sklearn.ensemble import RandomForestClassifier\n",
        "from sklearn.model_selection import cross_val_score\n",
        "from sklearn.metrics import precision_recall_fscore_support as score, accuracy_score, classification_report\n",
        "from sklearn.model_selection import StratifiedKFold\n",
        "from sklearn.neural_network import MLPClassifier\n",
        "from sklearn.model_selection import train_test_split\n",
        "from sklearn.preprocessing import StandardScaler"
      ],
      "metadata": {
        "id": "K0fLreI7f2RS"
      },
      "execution_count": 93,
      "outputs": []
    },
    {
      "cell_type": "markdown",
      "source": [
        "# **Loading Dataset**"
      ],
      "metadata": {
        "id": "Ga8zSwzLnf9C"
      }
    },
    {
      "cell_type": "code",
      "source": [
        "dataset = pd.read_csv('dataset_processed.csv')\n",
        "dataset = dataset.dropna()\n",
        "\n",
        "#Features & Output Split\n",
        "X = dataset.iloc[:, 0: 10].values\n",
        "y = dataset.iloc[:, 10: 16].values\n",
        "\n",
        "X_train, X_test, y_train, y_test = train_test_split(X, y, test_size=0.25, random_state=40)"
      ],
      "metadata": {
        "id": "fiNLHnDxf7Yb"
      },
      "execution_count": 94,
      "outputs": []
    },
    {
      "cell_type": "code",
      "source": [
        "kfold = StratifiedKFold(n_splits = 5, shuffle = True, random_state = 0)      \n",
        "\n",
        "for train, test in kfold.split(X, y[:, 0]):\n",
        "  X_train = X[train]\n",
        "  y_train = y[train, 0]\n",
        "  X_test = X[test]\n",
        "  y_test = y[test, 0]\n",
        "\n",
        "\n",
        "#Normalization\n",
        "sc_X = StandardScaler()\n",
        "X_train = sc_X.fit_transform(X_train)\n",
        "X_test = sc_X.transform(X_test)            \n",
        "        \n",
        "# Begin Classification\n",
        "y_current_train = y_train\n",
        "y_current_test =  y_test\n"
      ],
      "metadata": {
        "id": "EO58K_OSgM5M"
      },
      "execution_count": 95,
      "outputs": []
    },
    {
      "cell_type": "markdown",
      "source": [
        "# **1 - linear regression**"
      ],
      "metadata": {
        "id": "DSWy6mWtikf5"
      }
    },
    {
      "cell_type": "code",
      "source": [
        "linear_classifier = LogisticRegression(random_state = random_state)\n",
        "linear_classifier.fit(X_train, y_current_train)\n",
        "cm_linear = pd.crosstab(y_current_test, linear_classifier.predict(X_test))\n",
        "accuracy_linear = pd.DataFrame(classification_report(y_current_test, linear_classifier.predict(X_test), output_dict = True)).transpose() \n",
        "l1, l2, l3, l4 = score(y_current_test, linear_classifier.predict(X_test))"
      ],
      "metadata": {
        "id": "CiJApx4JgO7a"
      },
      "execution_count": 96,
      "outputs": []
    },
    {
      "cell_type": "markdown",
      "source": [
        "# **2 - KNN**"
      ],
      "metadata": {
        "id": "1D60x0QNiwE2"
      }
    },
    {
      "cell_type": "code",
      "source": [
        "knn_classifier = KNeighborsClassifier()\n",
        "knn_classifier.fit(X_train, y_current_train)\n",
        "cm_knn = pd.crosstab(y_current_test, knn_classifier.predict(X_test))\n",
        "accuracy_knn = pd.DataFrame(classification_report(y_current_test, knn_classifier.predict(X_test), output_dict = True)).transpose() \n",
        "k1, k2, k3, k4 = score(y_current_test, knn_classifier.predict(X_test))\n",
        "    "
      ],
      "metadata": {
        "id": "801gV9DliANE"
      },
      "execution_count": 97,
      "outputs": []
    },
    {
      "cell_type": "markdown",
      "source": [
        "# **3 - SVM**"
      ],
      "metadata": {
        "id": "o5ApQL0Si4aI"
      }
    },
    {
      "cell_type": "code",
      "source": [
        "svm_classifier = SVC(kernel = 'linear', random_state = random_state)\n",
        "svm_classifier.fit(X_train, y_current_train)\n",
        "cm_svm = pd.crosstab(y_current_test, svm_classifier.predict(X_test))\n",
        "accuracy_svm = pd.DataFrame(classification_report(y_current_test, svm_classifier.predict(X_test), output_dict = True)).transpose() \n",
        "s1, s2, s3, s4 = score(y_current_test, svm_classifier.predict(X_test)) "
      ],
      "metadata": {
        "id": "lYFgwfjiiDBE"
      },
      "execution_count": 98,
      "outputs": []
    },
    {
      "cell_type": "markdown",
      "source": [
        "# **4 - Kernel SVM**"
      ],
      "metadata": {
        "id": "65IN7_p6jBQD"
      }
    },
    {
      "cell_type": "code",
      "source": [
        "kernel_svm_classifier = SVC(kernel = 'rbf', random_state = random_state)\n",
        "kernel_svm_classifier.fit(X_train, y_current_train)\n",
        "cm_kernel_svm = pd.crosstab(y_current_test, kernel_svm_classifier.predict(X_test))\n",
        "accuracy_kernel_svm = pd.DataFrame(classification_report(y_current_test, kernel_svm_classifier.predict(X_test), output_dict = True)).transpose() \n",
        "sv1, sv2, sv3, sv4 = score(y_current_test, kernel_svm_classifier.predict(X_test))    "
      ],
      "metadata": {
        "id": "ag-edEkKiC4p"
      },
      "execution_count": 99,
      "outputs": []
    },
    {
      "cell_type": "markdown",
      "source": [
        "# **5 - Naive Bayes**"
      ],
      "metadata": {
        "id": "slacRBn-jIg9"
      }
    },
    {
      "cell_type": "code",
      "source": [
        "naive_classifier = GaussianNB()\n",
        "naive_classifier.fit(X_train, y_current_train)\n",
        "cm_naive = pd.crosstab(y_current_test, naive_classifier.predict(X_test))\n",
        "accuracy_naive =pd.DataFrame(classification_report(y_current_test, naive_classifier.predict(X_test), output_dict = True)).transpose() \n",
        "n1, n2, n3, n4 = score(y_current_test, naive_classifier.predict(X_test))    "
      ],
      "metadata": {
        "id": "XWZh4RieiGey"
      },
      "execution_count": 100,
      "outputs": []
    },
    {
      "cell_type": "markdown",
      "source": [
        "# **6 - Decision Tree**"
      ],
      "metadata": {
        "id": "fQlO-DQJjPor"
      }
    },
    {
      "cell_type": "code",
      "source": [
        "decision_tree_classifier = DecisionTreeClassifier(criterion = 'entropy', random_state = random_state)\n",
        "decision_tree_classifier.fit(X_train, y_current_train)\n",
        "cm_decision_tree = pd.crosstab(y_current_test, decision_tree_classifier.predict(X_test))\n",
        "accuracy_decision_tree = pd.DataFrame(classification_report(y_current_test, decision_tree_classifier.predict(X_test), output_dict = True)).transpose() \n",
        "d1, d2, d3, d4 = score(y_current_test, decision_tree_classifier.predict(X_test))    "
      ],
      "metadata": {
        "id": "dmmkx0-QiKI9"
      },
      "execution_count": 101,
      "outputs": []
    },
    {
      "cell_type": "markdown",
      "source": [
        "# **7 - Random Forest**"
      ],
      "metadata": {
        "id": "XVZDBgvFjuZO"
      }
    },
    {
      "cell_type": "code",
      "source": [
        "random_forest_classifier = RandomForestClassifier(n_estimators = 10, criterion = 'entropy', random_state = random_state)\n",
        "random_forest_classifier.fit(X_train, y_current_train)\n",
        "cm_random_forest = pd.crosstab(y_current_test, random_forest_classifier.predict(X_test))\n",
        "accuracy_random_forest = pd.DataFrame(classification_report(y_current_test, random_forest_classifier.predict(X_test), output_dict = True)).transpose() \n",
        "r1, r2, r3, r4 = score(y_current_test, random_forest_classifier.predict(X_test))"
      ],
      "metadata": {
        "id": "JEVtHbNSiMLW"
      },
      "execution_count": 102,
      "outputs": []
    },
    {
      "cell_type": "markdown",
      "source": [
        "# **8 - Stacked Deep learning**"
      ],
      "metadata": {
        "id": "Pdy9ed1rjy2Q"
      }
    },
    {
      "cell_type": "markdown",
      "source": [
        "**Model-1**"
      ],
      "metadata": {
        "id": "9fkqE6bLlGdv"
      }
    },
    {
      "cell_type": "code",
      "source": [
        "mlp1 = MLPClassifier(hidden_layer_sizes=(8,8,8), activation='relu', solver='adam', max_iter=500)\n",
        "mlp1.fit(X_train,y_train)\n",
        "y1_pred = mlp1.predict(X_test)\n",
        "\n",
        "# print(classification_report(y_current_test, y1_pred, output_dict = True))"
      ],
      "metadata": {
        "colab": {
          "base_uri": "https://localhost:8080/"
        },
        "id": "y0SMbvfHlXKo",
        "outputId": "c3243b41-ecd8-48df-8f0d-8fa2da64a689"
      },
      "execution_count": 103,
      "outputs": [
        {
          "output_type": "stream",
          "name": "stdout",
          "text": [
            "{'No': {'precision': 0.7719298245614035, 'recall': 0.66, 'f1-score': 0.711590296495957, 'support': 400}, 'Yes': {'precision': 0.949834009590557, 'recall': 0.9705993215228044, 'f1-score': 0.9601043997017151, 'support': 2653}, 'accuracy': 0.9299050114641336, 'macro avg': {'precision': 0.8608819170759803, 'recall': 0.8152996607614023, 'f1-score': 0.835847348098836, 'support': 3053}, 'weighted avg': {'precision': 0.9265252398520502, 'recall': 0.9299050114641336, 'f1-score': 0.927544412383568, 'support': 3053}}\n"
          ]
        }
      ]
    },
    {
      "cell_type": "markdown",
      "source": [
        "**Model-2**"
      ],
      "metadata": {
        "id": "R84LvcyolI23"
      }
    },
    {
      "cell_type": "code",
      "source": [
        "mlp2 = MLPClassifier(hidden_layer_sizes=(8,16,8), activation='relu', solver='adam', max_iter=500)\n",
        "mlp2.fit(X_train,y_train)\n",
        "y2_pred = mlp2.predict(X_test)\n",
        "\n",
        "# print(classification_report(y_current_test, y2_pred, output_dict = True))"
      ],
      "metadata": {
        "colab": {
          "base_uri": "https://localhost:8080/"
        },
        "id": "b5fxuKJJlcg7",
        "outputId": "810a1d79-d963-429d-8d32-b8eba9265c2a"
      },
      "execution_count": 104,
      "outputs": [
        {
          "output_type": "stream",
          "name": "stdout",
          "text": [
            "{'No': {'precision': 0.7795527156549521, 'recall': 0.61, 'f1-score': 0.6844319775596073, 'support': 400}, 'Yes': {'precision': 0.9430656934306569, 'recall': 0.9739917075009423, 'f1-score': 0.9582792508807714, 'support': 2653}, 'accuracy': 0.9263019980347199, 'macro avg': {'precision': 0.8613092045428046, 'recall': 0.7919958537504712, 'f1-score': 0.8213556142201893, 'support': 3053}, 'weighted avg': {'precision': 0.921642440528501, 'recall': 0.9263019980347199, 'f1-score': 0.922400145303154, 'support': 3053}}\n"
          ]
        }
      ]
    },
    {
      "cell_type": "markdown",
      "source": [
        "**Model-3**"
      ],
      "metadata": {
        "id": "SZ1g09VylMjj"
      }
    },
    {
      "cell_type": "code",
      "source": [
        "mlp3 = MLPClassifier(hidden_layer_sizes=(8,8,12), activation='relu', solver='adam', max_iter=500)\n",
        "mlp3.fit(X_train,y_train)\n",
        "y3_pred = mlp3.predict(X_test)\n",
        "\n",
        "# print(classification_report(y_current_test, y3_pred, output_dict = True))"
      ],
      "metadata": {
        "colab": {
          "base_uri": "https://localhost:8080/"
        },
        "id": "RqPrIPBklhXy",
        "outputId": "74c5fd6a-7019-4e45-e951-1247f3b01bfe"
      },
      "execution_count": 105,
      "outputs": [
        {
          "output_type": "stream",
          "name": "stdout",
          "text": [
            "{'No': {'precision': 0.819672131147541, 'recall': 0.625, 'f1-score': 0.7092198581560285, 'support': 400}, 'Yes': {'precision': 0.9454148471615721, 'recall': 0.9792687523558236, 'f1-score': 0.9620440659137197, 'support': 2653}, 'accuracy': 0.9328529315427448, 'macro avg': {'precision': 0.8825434891545565, 'recall': 0.8021343761779118, 'f1-score': 0.8356319620348741, 'support': 3053}, 'weighted avg': {'precision': 0.9289402037270447, 'recall': 0.9328529315427448, 'f1-score': 0.9289193744289256, 'support': 3053}}\n"
          ]
        }
      ]
    },
    {
      "cell_type": "markdown",
      "source": [
        "**Model-4**"
      ],
      "metadata": {
        "id": "WWoIR6G1lQTI"
      }
    },
    {
      "cell_type": "code",
      "source": [
        "mlp4 = MLPClassifier(hidden_layer_sizes=(8,16,16), activation='relu', solver='adam', max_iter=500)\n",
        "mlp4.fit(X_train,y_train)\n",
        "y4_pred = mlp4.predict(X_test)\n",
        "\n",
        "# print(classification_report(y_current_test, y4_pred, output_dict = True))"
      ],
      "metadata": {
        "colab": {
          "base_uri": "https://localhost:8080/"
        },
        "id": "iXuXarkWlzuy",
        "outputId": "457a3470-87c0-45d2-fa1b-83800b437ae8"
      },
      "execution_count": 106,
      "outputs": [
        {
          "output_type": "stream",
          "name": "stdout",
          "text": [
            "{'No': {'precision': 0.7597765363128491, 'recall': 0.68, 'f1-score': 0.7176781002638521, 'support': 400}, 'Yes': {'precision': 0.952504638218924, 'recall': 0.9675838673200151, 'f1-score': 0.9599850411368738, 'support': 2653}, 'accuracy': 0.9299050114641336, 'macro avg': {'precision': 0.8561405872658865, 'recall': 0.8237919336600076, 'f1-score': 0.838831570700363, 'support': 3053}, 'weighted avg': {'precision': 0.927253658604633, 'recall': 0.9299050114641336, 'f1-score': 0.928238307973032, 'support': 3053}}\n"
          ]
        }
      ]
    },
    {
      "cell_type": "markdown",
      "source": [
        "**Model-5**"
      ],
      "metadata": {
        "id": "qrmuI5GjlS7Q"
      }
    },
    {
      "cell_type": "code",
      "source": [
        "mlp5 = MLPClassifier(hidden_layer_sizes=(16,8,8), activation='relu', solver='adam', max_iter=500)\n",
        "mlp5.fit(X_train,y_train)\n",
        "y5_pred = mlp5.predict(X_test)\n",
        "\n",
        "# print(classification_report(y_current_test, y5_pred, output_dict = True))"
      ],
      "metadata": {
        "colab": {
          "base_uri": "https://localhost:8080/"
        },
        "id": "JLdEpbqAl6_O",
        "outputId": "dd8c13fa-3776-4f3e-b32f-8b62a4b49e79"
      },
      "execution_count": 107,
      "outputs": [
        {
          "output_type": "stream",
          "name": "stdout",
          "text": [
            "{'No': {'precision': 0.8991596638655462, 'recall': 0.535, 'f1-score': 0.6708463949843261, 'support': 400}, 'Yes': {'precision': 0.9339253996447602, 'recall': 0.9909536373916321, 'f1-score': 0.9615947329919531, 'support': 2653}, 'accuracy': 0.9312151981657386, 'macro avg': {'precision': 0.9165425317551532, 'recall': 0.7629768186958161, 'f1-score': 0.8162205639881396, 'support': 3053}, 'weighted avg': {'precision': 0.9293704391758163, 'recall': 0.9312151981657386, 'f1-score': 0.9235012723948188, 'support': 3053}}\n"
          ]
        }
      ]
    },
    {
      "cell_type": "code",
      "source": [
        "d11, d12, d13, d14 = score(y_current_test, y1_pred)\n",
        "d21, d22, d23, d24 = score(y_current_test, y2_pred)\n",
        "d31, d32, d33, d34 = score(y_current_test, y3_pred)\n",
        "d41, d42, d43, d44 = score(y_current_test, y4_pred)\n",
        "d51, d52, d53, d54 = score(y_current_test, y5_pred)\n",
        "\n",
        "dd1 = (d11 + d21 + d31 + d41 + d51)/5\n",
        "dd2 = (d12 + d22 + d32 + d42 + d52)/5\n",
        "dd3 = (d13 + d23 + d33 + d43 + d53)/5\n",
        "dd4 = (d14 + d24 + d34 + d44 + d54)/5\n",
        "\n",
        "accuracy_deep = []\n",
        "\n",
        "accuracy_deep.append(classification_report(y_current_test, y1_pred, output_dict = True))\n",
        "accuracy_deep.append(classification_report(y_current_test, y2_pred, output_dict = True))\n",
        "accuracy_deep.append(classification_report(y_current_test, y3_pred, output_dict = True))\n",
        "accuracy_deep.append(classification_report(y_current_test, y4_pred, output_dict = True))\n",
        "accuracy_deep.append(classification_report(y_current_test, y5_pred, output_dict = True))\n",
        "\n",
        "accuracy_average = accuracy_deep[0]\n",
        "\n",
        "for i in range(1,5):\n",
        "  for x, y in accuracy_deep[i].items():\n",
        "    if isinstance(y, dict):\n",
        "      for a, b in y.items():\n",
        "        accuracy_average[x][a]+=b\n",
        "    else:\n",
        "      accuracy_average[x]+=y\n",
        "\n",
        "            \n",
        "for x, y in accuracy_average.items():\n",
        "  if isinstance(y, dict):\n",
        "    for a, b in y.items():\n",
        "      accuracy_average[x][a]/=5\n",
        "  else:\n",
        "    accuracy_average[x]/=5\n",
        "\n",
        "accuracy_stacked_deep = pd.DataFrame(accuracy_average).transpose()"
      ],
      "metadata": {
        "id": "oVYJGnOcmANb"
      },
      "execution_count": 108,
      "outputs": []
    },
    {
      "cell_type": "code",
      "source": [
        "with open('Accuracies.csv', 'a') as cv_file:\n",
        "  cv_file.write('\\n\\n{}\\n'.format('Linear'))\n",
        "  accuracy_linear.to_csv(cv_file, header=True)\n",
        "  cv_file.write('\\n\\n{}\\n'.format('Naive'))\n",
        "  accuracy_naive.to_csv(cv_file, header=False)\n",
        "  cv_file.write('\\n\\n{}\\n'.format('KNN'))\n",
        "  accuracy_knn.to_csv(cv_file, header=False)\n",
        "  cv_file.write('\\n\\n{}\\n'.format('SVM'))\n",
        "  accuracy_svm.to_csv(cv_file, header=False)\n",
        "  cv_file.write('\\n\\n{}\\n'.format('Kern SVM'))\n",
        "  accuracy_kernel_svm.to_csv(cv_file, header=False)\n",
        "  cv_file.write('\\n\\n{}\\n'.format('DT'))\n",
        "  accuracy_decision_tree.to_csv(cv_file, header=False)\n",
        "  cv_file.write('\\n\\n{}\\n'.format('RF'))\n",
        "  accuracy_random_forest.to_csv(cv_file, header=False)\n",
        "  cv_file.write('\\n\\n{}\\n'.format('Stacked Deep learning'))\n",
        "  accuracy_stacked_deep.to_csv(cv_file, header=False)\n",
        "                "
      ],
      "metadata": {
        "id": "fo_48s1IiRFG"
      },
      "execution_count": 109,
      "outputs": []
    },
    {
      "cell_type": "code",
      "source": [
        "with open('all_scores.csv', 'a') as cv_file:\n",
        "  cv_file.write('\\n\\n\\nLinear   , ' + 'percision {} \\nrecall {}\\n {}\\nSupport {}'.format(l1, l2, l3, l4))\n",
        "  cv_file.write('\\n\\n\\nNaive    , ' +  'percision {} \\nrecall {}\\n {}\\nSupport {}'.format(n1, n2, n3, n4))\n",
        "  cv_file.write('\\n\\n\\nKNN      , ' +  'percision {} \\nrecall {}\\n {}\\nSupport {}'.format(k1, k2, k3, k4))\n",
        "  cv_file.write('\\n\\n\\nSVM      , ' +  'percision {} \\nrecall {}\\n {}\\nSupport {}'.format(s1, s2, s3, s4))\n",
        "  cv_file.write('\\n\\n\\nKern SVM , ' +  'percision {} \\nrecall {}\\n {}\\nSupport {}'.format(sv1, sv2, sv3, sv4))\n",
        "  cv_file.write('\\n\\n\\nDecision Trees  , ' + 'percision {} \\nrecall {}\\n {}\\nSupport {}'.format(d1, d2, d3, d4))\n",
        "  cv_file.write('\\n\\n\\nRandom Forest , ' +  'percision {} \\nrecall {}\\n {}\\nSupport {}'.format(r1, r2, r3, r4))\n",
        "  cv_file.write('\\n\\n\\nStacked Deep Learning , ' +  'percision {} \\nrecall {}\\n {}\\nSupport {}'.format(dd1, dd2, dd3, dd4))\n",
        "            "
      ],
      "metadata": {
        "id": "RnHAVzvYmy36"
      },
      "execution_count": 110,
      "outputs": []
    }
  ]
}